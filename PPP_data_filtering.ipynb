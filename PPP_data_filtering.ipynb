{
  "cells": [
    {
      "cell_type": "markdown",
      "metadata": {
        "id": "view-in-github",
        "colab_type": "text"
      },
      "source": [
        "<a href=\"https://colab.research.google.com/github/henryamster/PPP-Loan-Data-Scraper-Filter/blob/main/PPP_data_filtering.ipynb\" target=\"_parent\"><img src=\"https://colab.research.google.com/assets/colab-badge.svg\" alt=\"Open In Colab\"/></a>"
      ]
    },
    {
      "cell_type": "code",
      "source": [
        "#@title Import dependencies, connect google drive and set working path\n",
        "# Connect to google drive\n",
        "from google.colab import drive\n",
        "drive.mount('/content/drive')\n",
        "\n",
        "#imports\n",
        "import pandas as pd\n",
        "import os, glob\n",
        "import numpy as np\n",
        "import urllib.request\n",
        "from os.path import exists\n",
        "\n",
        "#set working path, create if does not exist\n",
        "WORKING_PATH = '/content/drive/MyDrive/PPP'\n",
        "if !os.path.isdir(path):\n",
        "    os.mkdir(path)"
      ],
      "metadata": {
        "cellView": "form",
        "id": "ZI9HNKzANgaz"
      },
      "execution_count": null,
      "outputs": []
    },
    {
      "cell_type": "code",
      "execution_count": null,
      "metadata": {
        "id": "kZgAczvSerqe",
        "cellView": "form"
      },
      "outputs": [],
      "source": [
        "#@title Download PPP data\n",
        "#list of data URLs\n",
        "PPPData = [\n",
        "    \"https://data.sba.gov/dataset/8aa276e2-6cab-4f86-aca4-a7dde42adf24/resource/501af711-1c91-477a-80ce-bf6428eb9253/download/public_150k_plus_220403.csv\",\n",
        "    \"https://data.sba.gov/dataset/8aa276e2-6cab-4f86-aca4-a7dde42adf24/resource/85f66605-568a-4400-aa5c-3803873153dc/download/public_up_to_150k_1_220403.csv\",\n",
        "    \"https://data.sba.gov/dataset/8aa276e2-6cab-4f86-aca4-a7dde42adf24/resource/783414f9-888b-47fb-b5dc-b1c0b102b6e5/download/public_up_to_150k_2_220403.csv\",\n",
        "    \"https://data.sba.gov/dataset/8aa276e2-6cab-4f86-aca4-a7dde42adf24/resource/148d5da2-c802-4c78-836e-6ee1d6c2bdf9/download/public_up_to_150k_3_220403.csv\",\n",
        "    \"https://data.sba.gov/dataset/8aa276e2-6cab-4f86-aca4-a7dde42adf24/resource/0fac3770-49da-4160-ae9f-53fc1b791c6e/download/public_up_to_150k_4_220403.csv\",\n",
        "    \"https://data.sba.gov/dataset/8aa276e2-6cab-4f86-aca4-a7dde42adf24/resource/b4ceb5fa-7693-43dc-af70-837cd88d84e9/download/public_up_to_150k_5_220403.csv\",\n",
        "    \"https://data.sba.gov/dataset/8aa276e2-6cab-4f86-aca4-a7dde42adf24/resource/980ec35b-d98c-452f-b4fc-2677dc923b90/download/public_up_to_150k_6_220403.csv\",\n",
        "    \"https://data.sba.gov/dataset/8aa276e2-6cab-4f86-aca4-a7dde42adf24/resource/61ef84ba-4e7c-4d19-96c9-761daed984d0/download/public_up_to_150k_7_220403.csv\",\n",
        "    \"https://data.sba.gov/dataset/8aa276e2-6cab-4f86-aca4-a7dde42adf24/resource/ba418afb-582d-444e-bf16-f73a9c0fea75/download/public_up_to_150k_8_220403.csv\",\n",
        "    \"https://data.sba.gov/dataset/8aa276e2-6cab-4f86-aca4-a7dde42adf24/resource/08de1369-982f-48a1-a828-256cb9ef488c/download/public_up_to_150k_9_220403.csv\",\n",
        "    \"https://data.sba.gov/dataset/8aa276e2-6cab-4f86-aca4-a7dde42adf24/resource/482b116e-35a6-4cd7-9171-e9dbe8b906eb/download/public_up_to_150k_10_220403.csv\",\n",
        "    \"https://data.sba.gov/dataset/8aa276e2-6cab-4f86-aca4-a7dde42adf24/resource/2c2adf29-a57c-4696-bfbf-452acd021eca/download/public_up_to_150k_11_220403.csv\",\n",
        "    \"https://data.sba.gov/dataset/8aa276e2-6cab-4f86-aca4-a7dde42adf24/resource/0950ec12-6edc-4df3-acfc-b53a892e220d/download/public_up_to_150k_12_220403.csv\",\n",
        "    \"https://data.sba.gov/dataset/8aa276e2-6cab-4f86-aca4-a7dde42adf24/resource/aab8e9f9-36d1-42e1-b3ba-e59c79f1d7f0/download/ppp-data-dictionary.xlsx\"\n",
        "]\n",
        "\n",
        "#download all csvs\n",
        "for file in PPPData:\n",
        "    if (!os.path.exists(f'{WORKING_PATH}/{file.split(\"/\")[-1]}.csv')):\n",
        "        with urllib.request.urlopen(file ) as dataFile, open (f'{WORKING_PATH}/{file.split(\"/\")[-1]}.csv', \"w\") as f:\n",
        "            f.write(dataFile.read().decode())\n"
      ]
    },
    {
      "cell_type": "code",
      "execution_count": null,
      "metadata": {
        "id": "881FRczUpU4U",
        "cellView": "form"
      },
      "outputs": [],
      "source": [
        "#@title FILTER\n",
        "#@markdown #filter selection\n",
        "\n",
        "# grab csvs in working path\n",
        "joined_list = glob.glob(f\"{WORKING_PATH}/*.csv\")\n",
        "\n",
        "dataFrameName = 'AllKY' #@param \n",
        "selected_attribute = 'BorrowerCity' #@param  [\"LoanNumber\", \"DateApproved\", \"SBAOfficeCode\", \"ProcessingMethod\", \"BorrowerName\", \"BorrowerAddress\", \"BorrowerCity\", \"BorrowerState\", \"BorrowerZip\", \"LoanStatusDate\", \"LoanStatus\", \"Term\", \"SBAGuarantyPercentage\", \"InitialApprovalAmount\", \"CurrentApprovalAmount\", \"UndisbursedAmount\", \"FranchiseName\", \"ServicingLenderLocationID\", \"ServicingLenderName\", \"ServicingLenderAddress\", \"ServicingLenderCity\", \"ServicingLenderState\", \"ServicingLenderZip\", \"RuralUrbanIndicator\", \"HubzoneIndicator\", \"LMIIndicator\", \"BusinessAgeDescription\", \"ProjectCity\", \"ProjectCountyName\", \"ProjectState\", \"ProjectZip\", \"CD\", \"JobsReported\", \"NAICSCode\", \"Race\", \"Ethnicity\", \"UTILITIES_PROCEED\", \"PAYROLL_PROCEED\", \"MORTGAGE_INTEREST_PROCEED\", \"RENT_PROCEED\", \"REFINANCE_EIDL_PROCEED\", \"HEALTH_CARE_PROCEED\", \"DEBT_INTEREST_PROCEED\", \"BusinessType\", \"OriginatingLenderLocationID\", \"OriginatingLender\", \"OriginatingLenderCity\", \"OriginatingLenderState\", \"Gender\", \"Veteran\", \"NonProfit\", \"ForgivenessAmount\", \"ForgivenessDate\"]\n",
        "acceptable_values = ['KY-06', 'KY-01', 'KY-02', 'KY-03', 'KY-04', 'KY-05'] #@param \n",
        "\n",
        "for file in joined_list:\n",
        "    df = pd.read_csv(file)\n",
        "    z = df[df[selected_attribute].isin(acceptable_values)]\n",
        "    z.to_csv(f'{file[:-4]}_{dataFrameName}.csv', index=False, encoding='utf-8-sig')\n",
        "\n",
        "sp_list = glob.glob(f\"{WORKING_PATH}/*_{dataFrameName}.csv\")\n",
        "\n",
        "combined_csv = pd.concat([pd.read_csv(f) for f in sp_list ])\n",
        "#export to csv\n",
        "combined_csv.to_csv(f'{WORKING_PATH}/{dataFrameName}.csv', index=False, encoding='utf-8-sig')\n",
        "\n",
        "for file in sp_list:\n",
        "    os.remove(file)\n",
        "\n",
        "print(f'Data succesfully retrieved. Your file is available at {WORKING_PATH}/{dataFrameName}.csv')\n"
      ]
    }
  ],
  "metadata": {
    "colab": {
      "name": "PPP data filtering",
      "provenance": [],
      "collapsed_sections": [],
      "mount_file_id": "16yLP86FknRkhQ-cP0ltEA4QXggwC1Neb",
      "authorship_tag": "ABX9TyPMh3cBWIrlJspleTfcd800",
      "include_colab_link": true
    },
    "kernelspec": {
      "display_name": "Python 3",
      "name": "python3"
    },
    "language_info": {
      "name": "python"
    }
  },
  "nbformat": 4,
  "nbformat_minor": 0
}